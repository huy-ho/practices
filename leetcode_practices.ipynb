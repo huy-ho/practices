{
 "cells": [
  {
   "cell_type": "markdown",
   "metadata": {},
   "source": [
    "### Leetcode 643. Maximum Average Subarray I\n",
    "\n",
    "\n"
   ]
  },
  {
   "cell_type": "code",
   "execution_count": 7,
   "metadata": {},
   "outputs": [
    {
     "name": "stdout",
     "output_type": "stream",
     "text": [
      "50\n",
      "1\n",
      "3\n",
      "12\n"
     ]
    }
   ],
   "source": [
    "nums = [1, 12, -5, -6, 50, 3]\n",
    "k=4\n",
    "#initial sum:     ->>>>>>>>>>>        sum(nums[0:k]) \n",
    "for i in range(k, len(nums)):\n",
    "    print(nums[i])\n",
    "    print(nums[i - k])"
   ]
  },
  {
   "cell_type": "code",
   "execution_count": 8,
   "metadata": {},
   "outputs": [],
   "source": [
    "def findMaxAverage(nums, k):\n",
    "    current_sum = sum(nums[0:k])\n",
    "    maxSum = current_sum\n",
    "    for i in range(k, len(nums)): #start at k, and ends \n",
    "        current_sum = current_sum + nums[i] - nums[i - k]\n",
    "        maxSum = max(maxSum, current_sum)\n",
    "    return maxSum / k\n",
    "                   \n",
    "        "
   ]
  },
  {
   "cell_type": "code",
   "execution_count": null,
   "metadata": {},
   "outputs": [],
   "source": [
    "def findMaxAverage(nums, k):\n",
    "    lp = 0\n",
    "    rp = k \n",
    "    "
   ]
  },
  {
   "cell_type": "markdown",
   "metadata": {},
   "source": [
    "### Leetcode 242. Valid Anagram\n",
    "\n",
    "given two strings, s and t, return True if t is an anagram of s, and false otherwise.\n",
    "\n",
    "s = 'anagram', t = 'nagaram'\n",
    "\n",
    "-> true"
   ]
  },
  {
   "cell_type": "code",
   "execution_count": 3,
   "metadata": {},
   "outputs": [],
   "source": [
    "letters = {\n",
    "    'a': 3,\n",
    "    'n': 1,\n",
    "    'g': 1\n",
    "}\n",
    "l_s = {\n",
    "    'n': 1,\n",
    "    'a': 3,\n",
    "    \"g\": 1\n",
    "}"
   ]
  },
  {
   "cell_type": "code",
   "execution_count": 4,
   "metadata": {},
   "outputs": [
    {
     "data": {
      "text/plain": [
       "True"
      ]
     },
     "execution_count": 4,
     "metadata": {},
     "output_type": "execute_result"
    }
   ],
   "source": [
    "letters == l_s"
   ]
  },
  {
   "cell_type": "code",
   "execution_count": 14,
   "metadata": {},
   "outputs": [
    {
     "data": {
      "text/plain": [
       "{'a': 3, 'n': 1, 'g': 1, 'r': 1, 'm': 1}"
      ]
     },
     "execution_count": 14,
     "metadata": {},
     "output_type": "execute_result"
    }
   ],
   "source": [
    "l = {}\n",
    "s = \"anagram\"\n",
    "t = \"nagaram\"\n",
    "for char in s:\n",
    "    if char in l: \n",
    "        l[char] += 1\n",
    "    else:\n",
    "        l[char] = 1\n",
    "l\n"
   ]
  },
  {
   "cell_type": "code",
   "execution_count": 1,
   "metadata": {},
   "outputs": [],
   "source": [
    "def validAnagram(s, t):\n",
    "\n",
    "    if len(s) != len(t):\n",
    "        return False\n",
    "    letters_s = {}\n",
    "    letters_t = {}\n",
    "    \n",
    "\n",
    "    for char in s:\n",
    "        if char in letters_s:\n",
    "            letters_s[char] += 1\n",
    "        else:\n",
    "            letters_s[char] = 1\n",
    "    for char in t:\n",
    "        if char in letters_t:\n",
    "            letters_t[char] += 1\n",
    "        else:\n",
    "            letters_t[char] = 1\n",
    "    return letters_s == letters_t"
   ]
  },
  {
   "cell_type": "code",
   "execution_count": 3,
   "metadata": {},
   "outputs": [
    {
     "data": {
      "text/plain": [
       "True"
      ]
     },
     "execution_count": 3,
     "metadata": {},
     "output_type": "execute_result"
    }
   ],
   "source": [
    "validAnagram('anagram', 'nagaram')"
   ]
  },
  {
   "cell_type": "code",
   "execution_count": 7,
   "metadata": {},
   "outputs": [],
   "source": [
    "def optimizedValidAnagram(s, t):\n",
    "    if len(s) != len(t):\n",
    "        return False\n",
    "    letters_s = {}\n",
    "    for char in s:\n",
    "        if char in letters_s:\n",
    "            letters_s[char] += 1\n",
    "        else:\n",
    "            letters_s[char] = 1\n",
    "    \n",
    "    for char in t:\n",
    "        if char not in letters_s or letters_s[char] <= 0:\n",
    "            return False\n",
    "        else:\n",
    "            letters_s[char] -= 1\n",
    "    \n",
    "    for val in letters_s.values():\n",
    "        if val != 0:\n",
    "            return False\n",
    "    return True\n"
   ]
  },
  {
   "cell_type": "markdown",
   "metadata": {},
   "source": [
    "### Space and Time Complexity\n",
    "\n",
    "- the time complexity through iterating through s is O(n) where n is the length of s.\n",
    "- iterating through t and decrementing it is also O(n).\n",
    "- checking the dictionary values is O(1).\n",
    "\n",
    "the total time complexity is O(n) + O(n) + O(1) = O(n)\n",
    "\n",
    "For space complexity, the space for letter_s is the letters in the alphabet, which is 26 letters, therefore is a constant O(1). However, for general cases with a larger character set O(k), where k is the number of unique characters."
   ]
  },
  {
   "cell_type": "markdown",
   "metadata": {},
   "source": [
    "# Leetcode 49. Group Anagrams\n",
    "\n",
    "Given an array of strs, group the anagrams together. \n",
    "\n",
    "--- \n",
    "\n",
    "Input: strs = [\"eat\",\"tea\",\"tan\",\"ate\",\"nat\",\"bat\"]\n",
    "\n",
    "Output: [[\"bat\"],[\"nat\",\"tan\"],[\"ate\",\"eat\",\"tea\"]]"
   ]
  },
  {
   "cell_type": "code",
   "execution_count": 8,
   "metadata": {},
   "outputs": [],
   "source": [
    "strs = [\"eat\",\"tea\",\"tan\",\"ate\",\"nat\",\"bat\"]"
   ]
  },
  {
   "cell_type": "code",
   "execution_count": 23,
   "metadata": {},
   "outputs": [
    {
     "data": {
      "text/plain": [
       "[['eat', 'tea', 'ate'], ['tan', 'nat'], ['bat']]"
      ]
     },
     "execution_count": 23,
     "metadata": {},
     "output_type": "execute_result"
    }
   ],
   "source": [
    "mp = {}\n",
    "for i in range(len(strs)):\n",
    "    sorted_str = ''.join(sorted(strs[i]))\n",
    "    if sorted_str in mp:\n",
    "        mp[sorted_str].append(strs[i]) #{'aet': ['eat', 'ate']}\n",
    "    else:\n",
    "        mp[sorted_str] = [strs[i]]\n",
    "ans = list(mp.values())\n",
    "ans"
   ]
  },
  {
   "cell_type": "code",
   "execution_count": 25,
   "metadata": {},
   "outputs": [],
   "source": [
    "def groupAnagrams(strs):\n",
    "    if len(strs) == 0:\n",
    "        return []\n",
    "    mp = {}\n",
    "    for i in range(len(strs)):\n",
    "        sorted_str = ''.join(sorted(strs[i]))\n",
    "        if sorted_str in mp:\n",
    "            mp[sorted_str].append(strs[i]) #{'aet': ['eat', 'ate']}\n",
    "        else:\n",
    "            mp[sorted_str] = [strs[i]]\n",
    "    ans = list(mp.values())\n",
    "    return ans"
   ]
  },
  {
   "cell_type": "code",
   "execution_count": 26,
   "metadata": {},
   "outputs": [
    {
     "data": {
      "text/plain": [
       "[['eat', 'tea', 'ate'], ['tan', 'nat'], ['bat']]"
      ]
     },
     "execution_count": 26,
     "metadata": {},
     "output_type": "execute_result"
    }
   ],
   "source": [
    "list(mp.values())"
   ]
  },
  {
   "cell_type": "code",
   "execution_count": 27,
   "metadata": {},
   "outputs": [
    {
     "data": {
      "text/plain": [
       "[['eat', 'tea', 'ate'], ['tan', 'nat'], ['bat']]"
      ]
     },
     "execution_count": 27,
     "metadata": {},
     "output_type": "execute_result"
    }
   ],
   "source": [
    "groupAnagrams([\"eat\",\"tea\",\"tan\",\"ate\",\"nat\",\"bat\"])"
   ]
  },
  {
   "cell_type": "markdown",
   "metadata": {},
   "source": [
    "## Space and Time Complexity"
   ]
  },
  {
   "cell_type": "markdown",
   "metadata": {},
   "source": [
    "Time complexity:\n",
    "\n",
    "- we are iterating through a list of strings, and there are n strings.\n",
    "- sorting a string takes O(k log k) -> this step contributes O(n * k log k ) where n is the number of strings and k is the average length of the strings.\n",
    "- for inserting and updating the dictionary, we are inserting and lookup the dictionary, which is O(1) time complexity. Since there are n strings and therefore n insertions -> O(n)\n",
    "- at the end, we are extracting the values. Since there are n values, it is O(n).\n",
    "- The total time complexity is O(n * k log k)\n",
    "\n",
    "Space Complexity:\n",
    "- we are using a dictionary which store keys (sorted strings) and the values is a list of anagrams.\n",
    "- each key is O(k) space \n",
    "- the total space used by the dictionary is proportional to the input size: O(n * k)\n",
    "\n",
    "Overall space complexity is O(n * k)\n",
    "\n",
    "n is # of strings in strs, and k is the average length of the strings\n"
   ]
  },
  {
   "cell_type": "markdown",
   "metadata": {},
   "source": [
    "## Leetcode 347. Top K Frequent Elements\n",
    "\n",
    "given an integer array nums and an integer k, return the k most frequent elements. You may return the answer in any order"
   ]
  },
  {
   "cell_type": "markdown",
   "metadata": {},
   "source": [
    "nums = [1, 1, ,1, 2, 2, 3]\n",
    "\n",
    "k = 3\n",
    "\n",
    "\n",
    "output = [1, 2]"
   ]
  },
  {
   "cell_type": "code",
   "execution_count": 46,
   "metadata": {},
   "outputs": [],
   "source": [
    "nums = [1, 1, 1,2, 2, 2, 2, 2, 3, 3, 3, 3]\n",
    "k = 2"
   ]
  },
  {
   "cell_type": "code",
   "execution_count": 56,
   "metadata": {},
   "outputs": [],
   "source": [
    "def top_k_frequent_elements(nums, k):\n",
    "    count = {}\n",
    "    for i in nums:\n",
    "        if i in count: #if the number exists\n",
    "            count[i] += 1\n",
    "        else:\n",
    "            count[i] = 1\n",
    "    sorted_values = sorted(count.items(), key= lambda k: k[1], reverse=True) #the reason for the lambda is we want to sort by the second value\n",
    "    top_k = [i[0] for i in sorted_values[:k]]\n",
    "    return top_k\n"
   ]
  },
  {
   "cell_type": "code",
   "execution_count": 58,
   "metadata": {},
   "outputs": [
    {
     "data": {
      "text/plain": [
       "[1, 2]"
      ]
     },
     "execution_count": 58,
     "metadata": {},
     "output_type": "execute_result"
    }
   ],
   "source": [
    "nums = [1, 1, 1, 2, 2, 3]\n",
    "k = 2\n",
    "top_k_frequent_elements(nums, k)"
   ]
  },
  {
   "cell_type": "markdown",
   "metadata": {},
   "source": [
    "### Time and Space Complexity\n",
    "\n",
    "Time Complexity:\n",
    "\n",
    "- we are iterating through the hashmap, for n values. This will be O(n)\n",
    "- sorting a list of dictionary based on the values, the size is m elements, would be O(m log m)\n",
    "- extracting the top K elements, slicing is O(k).\n",
    "- In total: O(n) + O(m log m ) + O(k) is approximately O(n + m log m)\n",
    "\n",
    "Space Complexity:\n",
    "\n",
    "1. Space for dictionary (count)\n",
    "    - stores up to m unique elements\n",
    "    - O(m)\n",
    "2. Space for the sorted_values\n",
    "    - holds up to m elements \n",
    "    O(m)\n",
    "3. Space for top_k \n",
    "    - store up to k keys\n",
    "    - O(k)\n",
    "4. Sorting space\n",
    "    - timesort in python is O(m)\n",
    "Overall space complexity is O(m + k)"
   ]
  },
  {
   "cell_type": "markdown",
   "metadata": {},
   "source": [
    "## Leetcode 128. Longest Consecutive Sequence\n",
    "\n",
    "Given an unsorted array of integers nums, return the length of the longest consecutive elements sequence.\n",
    "\n",
    "You must write an algorithm that runs in O(n) time.\n",
    "\n"
   ]
  },
  {
   "cell_type": "code",
   "execution_count": 59,
   "metadata": {},
   "outputs": [],
   "source": [
    "#Input: nums = [100,4,200,1,3,2]\n",
    "#Output: 4\n",
    "#Explanation: The longest consecutive elements sequence is [1, 2, 3, 4]. Therefore its length is 4."
   ]
  },
  {
   "cell_type": "code",
   "execution_count": 60,
   "metadata": {},
   "outputs": [
    {
     "data": {
      "text/plain": [
       "[1, 2, 3, 4, 100, 200]"
      ]
     },
     "execution_count": 60,
     "metadata": {},
     "output_type": "execute_result"
    }
   ],
   "source": [
    "nums = [100, 4, 200, 1, 3, 2]\n",
    "sorted_nums = sorted(nums)\n",
    "sorted_nums"
   ]
  },
  {
   "cell_type": "code",
   "execution_count": 61,
   "metadata": {},
   "outputs": [],
   "source": [
    "def longestConsecSeq(nums):\n",
    "    pass"
   ]
  },
  {
   "cell_type": "code",
   "execution_count": 63,
   "metadata": {},
   "outputs": [
    {
     "data": {
      "text/plain": [
       "[1, 2, 3, 4, 100, 200]"
      ]
     },
     "execution_count": 63,
     "metadata": {},
     "output_type": "execute_result"
    }
   ],
   "source": [
    "nums = [100, 4, 200, 1, 3, 2]\n",
    "sorted_nums = sorted(nums)\n",
    "sorted_nums"
   ]
  },
  {
   "cell_type": "code",
   "execution_count": 67,
   "metadata": {},
   "outputs": [
    {
     "data": {
      "text/plain": [
       "False"
      ]
     },
     "execution_count": 67,
     "metadata": {},
     "output_type": "execute_result"
    }
   ],
   "source": [
    "0 in sorted_nums"
   ]
  },
  {
   "cell_type": "code",
   "execution_count": 70,
   "metadata": {},
   "outputs": [
    {
     "ename": "KeyboardInterrupt",
     "evalue": "",
     "output_type": "error",
     "traceback": [
      "\u001b[1;31m---------------------------------------------------------------------------\u001b[0m",
      "\u001b[1;31mKeyboardInterrupt\u001b[0m                         Traceback (most recent call last)",
      "Cell \u001b[1;32mIn[70], line 4\u001b[0m\n\u001b[0;32m      2\u001b[0m i \u001b[38;5;241m=\u001b[39m \u001b[38;5;241m0\u001b[39m\n\u001b[0;32m      3\u001b[0m length \u001b[38;5;241m=\u001b[39m \u001b[38;5;241m0\u001b[39m\n\u001b[1;32m----> 4\u001b[0m \u001b[38;5;28;01mwhile\u001b[39;00m reset \u001b[38;5;129;01mor\u001b[39;00m i \u001b[38;5;241m<\u001b[39m \u001b[38;5;28mlen\u001b[39m(sorted_nums):\n\u001b[0;32m      5\u001b[0m     \u001b[38;5;28;01mif\u001b[39;00m sorted_nums[i] \u001b[38;5;241m-\u001b[39m \u001b[38;5;241m1\u001b[39m \u001b[38;5;129;01mnot\u001b[39;00m \u001b[38;5;129;01min\u001b[39;00m sorted_nums \u001b[38;5;129;01mand\u001b[39;00m sorted_nums[i] \u001b[38;5;241m+\u001b[39m \u001b[38;5;241m1\u001b[39m \u001b[38;5;129;01min\u001b[39;00m sorted_nums:\n\u001b[0;32m      6\u001b[0m         length \u001b[38;5;241m=\u001b[39m \u001b[38;5;241m1\u001b[39m\n",
      "\u001b[1;31mKeyboardInterrupt\u001b[0m: "
     ]
    }
   ],
   "source": [
    "reset = True\n",
    "i = 0\n",
    "length = 0\n",
    "while reset or i < len(sorted_nums):\n",
    "    if sorted_nums[i] - 1 not in sorted_nums and sorted_nums[i] + 1 in sorted_nums:\n",
    "        length = 1\n",
    "        i = i + 1\n",
    "    if sorted_nums[i] - 1 in sorted_nums and sorted_nums[i] + 1 in sorted_nums:\n",
    "        i = i + 1\n",
    "        lenght = length + 1\n",
    "\n",
    "length"
   ]
  },
  {
   "cell_type": "code",
   "execution_count": 72,
   "metadata": {},
   "outputs": [
    {
     "data": {
      "text/plain": [
       "[1, 2, 3, 4, 100, 200]"
      ]
     },
     "execution_count": 72,
     "metadata": {},
     "output_type": "execute_result"
    }
   ],
   "source": [
    "sorted_nums"
   ]
  },
  {
   "cell_type": "code",
   "execution_count": 73,
   "metadata": {},
   "outputs": [
    {
     "data": {
      "text/plain": [
       "4"
      ]
     },
     "execution_count": 73,
     "metadata": {},
     "output_type": "execute_result"
    }
   ],
   "source": [
    "currentStreak = 1\n",
    "maxStreak = 1\n",
    "for num in sorted_nums: #1, 2, 3, 4, 100, 200\n",
    "    if num + 1 in sorted_nums: #1 + 1 = 2 -> it is in this array     -> #2 -> 3  ->>    5 is not in this array\n",
    "        currentStreak += 1 #2 consecutive sequence                  -> 3 consec -> 3\n",
    "        maxStreak = max(maxStreak, currentStreak) #2                -> maxStreak = 3\n",
    "    else:\n",
    "        currentStreak = 1                       \n",
    "maxStreak"
   ]
  },
  {
   "cell_type": "code",
   "execution_count": 85,
   "metadata": {},
   "outputs": [],
   "source": [
    "def longestConsecSeq(nums):\n",
    "    if len(nums) == 0:\n",
    "        return 0\n",
    "    sorted_nums = sorted(nums)\n",
    "    currentStreak = 1\n",
    "    maxStreak = 1\n",
    "    previousnum = None\n",
    "    for num in sorted_nums:\n",
    "        if num == previousnum: #skip\n",
    "            continue\n",
    "        if num + 1 in sorted_nums:  \n",
    "            currentStreak += 1 \n",
    "            maxStreak = max(maxStreak, currentStreak)\n",
    "            previousnum = num\n",
    "        else:\n",
    "            currentStreak = 1\n",
    "            previousnum = num                       \n",
    "    return maxStreak"
   ]
  },
  {
   "cell_type": "code",
   "execution_count": 89,
   "metadata": {},
   "outputs": [
    {
     "data": {
      "text/plain": [
       "4"
      ]
     },
     "execution_count": 89,
     "metadata": {},
     "output_type": "execute_result"
    }
   ],
   "source": [
    "longestConsecSeq([1, 1, 2, 3, 4, 100, 200])"
   ]
  },
  {
   "cell_type": "markdown",
   "metadata": {},
   "source": [
    "### Time Complexity \n",
    "\n",
    "1. Sorting the array \n",
    "    - sorting nums takes O(n log n), where n is the length of the input array\n",
    "2. Iterating through the array:\n",
    "    - the loop iterate through the elements in sorted_nums, so this takes O(n)\n",
    "3. Checking num + 1 in sorted_nums:\n",
    "    - the in operator performs a linear search in the sorted list, which takes O(n) -> since the check is inside the for loop, it runs N * O(n) = O(n^2) so it is n squared"
   ]
  },
  {
   "cell_type": "code",
   "execution_count": 102,
   "metadata": {},
   "outputs": [],
   "source": [
    "# lets use a set so we don't have duplicates\n",
    "\n",
    "def longestConsecSeqOptimized(nums):\n",
    "    sorted_set = set(nums)\n",
    "    max_streak = 0\n",
    "    for num in sorted_set:\n",
    "        if num - 1 not in sorted_set: #{1 ,2 ,3 ,4, 100, 200} #this is the start of the sequence\n",
    "            current_streak = 1\n",
    "            next_number = num + 1\n",
    "            while next_number in sorted_set:\n",
    "                next_number = next_number + 1\n",
    "                current_streak = current_streak + 1\n",
    "            \n",
    "            max_streak = max(max_streak, current_streak)\n",
    "    return max_streak\n",
    "\n"
   ]
  },
  {
   "cell_type": "code",
   "execution_count": 103,
   "metadata": {},
   "outputs": [
    {
     "data": {
      "text/plain": [
       "4"
      ]
     },
     "execution_count": 103,
     "metadata": {},
     "output_type": "execute_result"
    }
   ],
   "source": [
    "longestConsecSeqOptimized([1, 1, 2, 3, 4, 100, 200])"
   ]
  },
  {
   "cell_type": "code",
   "execution_count": 104,
   "metadata": {},
   "outputs": [
    {
     "data": {
      "text/plain": [
       "False"
      ]
     },
     "execution_count": 104,
     "metadata": {},
     "output_type": "execute_result"
    }
   ],
   "source": [
    "s_nums = set(nums)\n",
    "0 in s_nums"
   ]
  },
  {
   "cell_type": "markdown",
   "metadata": {},
   "source": [
    "### Leetcode 3110. Score of a String"
   ]
  },
  {
   "cell_type": "code",
   "execution_count": 1,
   "metadata": {},
   "outputs": [],
   "source": [
    "s = \"hello\"\n",
    "s2 = \"zaz\""
   ]
  },
  {
   "cell_type": "code",
   "execution_count": null,
   "metadata": {},
   "outputs": [],
   "source": [
    "def scoreOfString(s):\n",
    "    sum = 0\n",
    "    for i in range(len(s)):\n",
    "        addition = s[i] + s[i + 1]\n",
    "        "
   ]
  },
  {
   "cell_type": "code",
   "execution_count": 16,
   "metadata": {},
   "outputs": [
    {
     "name": "stdout",
     "output_type": "stream",
     "text": [
      "0\n",
      "1\n",
      "2\n",
      "3\n",
      "13\n"
     ]
    }
   ],
   "source": [
    "s = \"hello\"\n",
    "s2 = \"zaz\"\n",
    "sum = 0\n",
    "for i in range(len(s)- 1):\n",
    "    print(i)\n",
    "    addition = abs(ord(s[i]) - ord(s[i + 1]))\n",
    "    sum = sum + addition\n",
    "print(sum)"
   ]
  },
  {
   "cell_type": "markdown",
   "metadata": {},
   "source": [
    "### Binary Search"
   ]
  },
  {
   "cell_type": "code",
   "execution_count": 27,
   "metadata": {},
   "outputs": [
    {
     "data": {
      "text/plain": [
       "10"
      ]
     },
     "execution_count": 27,
     "metadata": {},
     "output_type": "execute_result"
    }
   ],
   "source": [
    "array = [1, 2, 6, 8, 10, 20, 44, 82]\n",
    "target = 20\n",
    "array[4]"
   ]
  },
  {
   "cell_type": "code",
   "execution_count": 28,
   "metadata": {},
   "outputs": [
    {
     "data": {
      "text/plain": [
       "2"
      ]
     },
     "execution_count": 28,
     "metadata": {},
     "output_type": "execute_result"
    }
   ],
   "source": [
    "5 // 2"
   ]
  },
  {
   "cell_type": "code",
   "execution_count": 35,
   "metadata": {},
   "outputs": [],
   "source": [
    "def binarySearch(array, low, high , target):\n",
    "    low = 0\n",
    "    high = len(array) - 1\n",
    "    while low <= high:\n",
    "        midpoint = (low + high) // 2\n",
    "\n",
    "        if array[midpoint] == target:\n",
    "            return midpoint\n",
    "       \n",
    "        elif array[midpoint] < target:\n",
    "            low = midpoint + 1\n",
    "            return binarySearch(array, low, high, target)\n",
    "\n",
    "        \n",
    "        elif array[midpoint] > target:\n",
    "            high = midpoint - 1\n",
    "            return binarySearch(array, low, high, target)\n",
    "        \n",
    "\n",
    "\n",
    "#wrong, im mixing iterative and recursive"
   ]
  },
  {
   "cell_type": "code",
   "execution_count": 74,
   "metadata": {},
   "outputs": [],
   "source": [
    "def binarySearch(array, target):\n",
    "    low = 0\n",
    "    high = len(array) - 1\n",
    "    while low <= high:\n",
    "        midpoint = (low + high) // 2\n",
    "\n",
    "        if array[midpoint] == target:\n",
    "            return midpoint\n",
    "       \n",
    "        elif array[midpoint] < target:\n",
    "            low = midpoint + 1\n",
    "          \n",
    "        elif array[midpoint] > target:\n",
    "            high = midpoint - 1\n",
    "\n",
    "        else:\n",
    "            return -1\n",
    "\n"
   ]
  },
  {
   "cell_type": "code",
   "execution_count": 75,
   "metadata": {},
   "outputs": [
    {
     "data": {
      "text/plain": [
       "2"
      ]
     },
     "execution_count": 75,
     "metadata": {},
     "output_type": "execute_result"
    }
   ],
   "source": [
    "binarySearch(array, 6)"
   ]
  },
  {
   "cell_type": "code",
   "execution_count": 72,
   "metadata": {},
   "outputs": [
    {
     "data": {
      "text/plain": [
       "10"
      ]
     },
     "execution_count": 72,
     "metadata": {},
     "output_type": "execute_result"
    }
   ],
   "source": [
    "nums = [1, 2, 6, 8, 10, 20, 44, 82]\n",
    "target = 44\n",
    "array[4]"
   ]
  },
  {
   "cell_type": "code",
   "execution_count": 73,
   "metadata": {},
   "outputs": [],
   "source": [
    "def binarySearchRecursive(nums, target, low=0, high=len(nums)-1): \n",
    "    #low = 0\n",
    "    #high = len(nums) - 1\n",
    "    midpoint = (low + high) // 2\n",
    "    print(midpoint)\n",
    "\n",
    "    if nums[midpoint] == target:\n",
    "        return midpoint\n",
    "    \n",
    "    elif nums[midpoint] < target:\n",
    "        low = low + 1\n",
    "        return binarySearchRecursive(nums, target, low, high)\n",
    "    \n",
    "    elif nums[midpoint] > target:\n",
    "        high = midpoint - 1\n",
    "        return binarySearchRecursive(nums, target, low, high)\n",
    "    return -1\n",
    "\n",
    "#this is wrong"
   ]
  },
  {
   "cell_type": "code",
   "execution_count": 76,
   "metadata": {},
   "outputs": [],
   "source": [
    "#final solution\n",
    "\n",
    "def binarySearchRecursive(nums, target):\n",
    "\n",
    "    def search(low, high):\n",
    "\n",
    "        #base case, target is not found\n",
    "        if low > high:\n",
    "            return -1\n",
    "        \n",
    "        #calculate the middle index\n",
    "        midpoint = (low + high) // 2\n",
    "\n",
    "        #check if that target is at the middle index\n",
    "        if nums[midpoint] == target:\n",
    "            return midpoint\n",
    "        \n",
    "        elif nums[midpoint] > target: #search left\n",
    "            high = midpoint - 1\n",
    "            return search(low, high)\n",
    "        \n",
    "        else: #search right\n",
    "            low = midpoint + 1\n",
    "            return search(low, high)\n",
    "\n",
    "    \n",
    "    return search(0, len(nums) - 1)"
   ]
  },
  {
   "cell_type": "code",
   "execution_count": 77,
   "metadata": {},
   "outputs": [
    {
     "data": {
      "text/plain": [
       "6"
      ]
     },
     "execution_count": 77,
     "metadata": {},
     "output_type": "execute_result"
    }
   ],
   "source": [
    "nums = [1, 2, 6, 8, 10, 20, 44, 82]\n",
    "target = 44\n",
    "binarySearchRecursive(nums, target)"
   ]
  },
  {
   "cell_type": "markdown",
   "metadata": {},
   "source": [
    "Time and Space Complexity"
   ]
  },
  {
   "cell_type": "markdown",
   "metadata": {},
   "source": [
    "Binary search works by dividing the search range in half at each step.\n",
    "\n",
    "At each recursive step, we calculate the midpoint and make one comparison.\n",
    "The array size is halved in each step.\n",
    "Thus, the time complexity is:\n",
    "O(log n)\n",
    "where \n",
    "𝑛\n",
    "n is the number of elements in the array."
   ]
  },
  {
   "cell_type": "markdown",
   "metadata": {},
   "source": [
    "Why is Iterative Binary Search Better for Space?\n",
    "The iterative version of binary search has a space complexity of O(1) because it uses a while loop and does not require additional stack frames."
   ]
  },
  {
   "cell_type": "markdown",
   "metadata": {},
   "source": [
    "Recursive Binary Search:\n",
    "\n",
    "Time: O(log n)\n",
    "Space: O(log n)\n",
    "Iterative Binary Search:\n",
    "\n",
    "Time: O(log n)\n",
    "Space: O(1)"
   ]
  },
  {
   "cell_type": "markdown",
   "metadata": {},
   "source": [
    "### Leetcode 442. Find All Duplicates in an Array\n",
    "\n",
    "Given an integer array nums of length n where all the integers of nums are in the range [1, n] and each integer appears at most twice, return an array of all the integers that appears twice.\n",
    "\n",
    "You must write an algorithm that runs in O(n) time and uses only constant auxiliary space, excluding the space needed to store the output\n",
    "\n",
    "Example 1:\n",
    "\n",
    "Input: nums = [4,3,2,7,8,2,3,1]\n",
    "\n",
    "Output: [2,3]\n",
    "\n",
    "Example 2:\n",
    "\n",
    "Input: nums = [1,1,2]\n",
    "\n",
    "Output: [1]\n",
    "\n",
    "Example 3:\n",
    "\n",
    "Input: nums = [1]\n",
    "\n",
    "Output: []"
   ]
  },
  {
   "cell_type": "code",
   "execution_count": 78,
   "metadata": {},
   "outputs": [],
   "source": [
    "nums = [4,3,2,7,8,2,3,1]"
   ]
  },
  {
   "cell_type": "code",
   "execution_count": 85,
   "metadata": {},
   "outputs": [],
   "source": [
    "def findDuplicates(nums):\n",
    "    occurences = {}\n",
    "    for i in nums:\n",
    "        if i not in occurences:\n",
    "            occurences[i] = 1\n",
    "        else:\n",
    "            occurences[i] += 1\n",
    "\n",
    "    output = []\n",
    "    for i in occurences.items():\n",
    "        if i[1] == 2:\n",
    "            output.append(i[0])\n",
    "    return output\n",
    "\n"
   ]
  },
  {
   "cell_type": "code",
   "execution_count": 88,
   "metadata": {},
   "outputs": [
    {
     "data": {
      "text/plain": [
       "[]"
      ]
     },
     "execution_count": 88,
     "metadata": {},
     "output_type": "execute_result"
    }
   ],
   "source": [
    "nums = [4,3,2,7,8,2,3,1]\n",
    "nums = [1, 1, 2]\n",
    "nums = [1]\n",
    "findDuplicates(nums)"
   ]
  },
  {
   "cell_type": "markdown",
   "metadata": {},
   "source": [
    "research in the AM, \"cyclic negation\" for this question. This one works, but it is O(n) time and O(n) space. We want to use O(n) time and O(1) space."
   ]
  },
  {
   "cell_type": "markdown",
   "metadata": {},
   "source": [
    "## Arrays"
   ]
  },
  {
   "cell_type": "markdown",
   "metadata": {},
   "source": [
    "### Leetcode 73. Set Matrix Zeroes\n",
    "\n",
    "Given an m x n integer matrix matrix, if an element is 0, set its entire row and column to 0's.\n",
    "\n",
    "You must do it in place."
   ]
  },
  {
   "cell_type": "markdown",
   "metadata": {},
   "source": [
    "Input: matrix = [[1,1,1],[1,0,1],[1,1,1]]\n",
    "\n",
    "Output: [[1,0,1],[0,0,0],[1,0,1]]"
   ]
  },
  {
   "cell_type": "code",
   "execution_count": 97,
   "metadata": {},
   "outputs": [
    {
     "name": "stdout",
     "output_type": "stream",
     "text": [
      "[1, 1, 1]\n",
      "prev is [1, 1, 1]\n",
      "[1, 0, 1]\n",
      "prev is [1, 1, 1]\n",
      "[1, 1, 1]\n",
      "prev is [1, 0, 1]\n"
     ]
    }
   ],
   "source": [
    "matrix = [[1, 1, 1], [1, 0, 1], [1, 1, 1]]\n",
    "\n",
    "for i in range(len(matrix)):\n",
    "    print(matrix[i])\n",
    "\n",
    "    prev = matrix[i - 1]\n",
    "    print(\"prev is {}\".format(prev))"
   ]
  },
  {
   "cell_type": "code",
   "execution_count": 106,
   "metadata": {},
   "outputs": [],
   "source": [
    "matrix = [[0,1,2,0],[3,4,5,2],[1,3,1,5]]"
   ]
  },
  {
   "cell_type": "code",
   "execution_count": 148,
   "metadata": {},
   "outputs": [
    {
     "data": {
      "text/plain": [
       "{(1, 1): 0}"
      ]
     },
     "execution_count": 148,
     "metadata": {},
     "output_type": "execute_result"
    }
   ],
   "source": [
    "seen_map = {}\n",
    "for row_index, row in enumerate(matrix):\n",
    "    for column_index, value in enumerate(row):\n",
    "        if value == 0:\n",
    "            seen_map[(row_index, column_index)] = value\n",
    "seen_map"
   ]
  },
  {
   "cell_type": "code",
   "execution_count": 139,
   "metadata": {},
   "outputs": [
    {
     "data": {
      "text/plain": [
       "[[0, 0, 0, 0], [0, 4, 5, 0], [0, 3, 1, 0]]"
      ]
     },
     "execution_count": 139,
     "metadata": {},
     "output_type": "execute_result"
    }
   ],
   "source": [
    "matrix"
   ]
  },
  {
   "cell_type": "code",
   "execution_count": 147,
   "metadata": {},
   "outputs": [],
   "source": [
    "matrix = [[1,1,1],[1,0,1],[1,1,1]]"
   ]
  },
  {
   "cell_type": "code",
   "execution_count": 185,
   "metadata": {},
   "outputs": [],
   "source": [
    "#create a hashmap for values\n",
    "\n",
    "def setZeroes(matrix):\n",
    "    seen_map = {}\n",
    "    for row_index, row in enumerate(matrix):\n",
    "        for column_index, value in enumerate(row):\n",
    "            if value == 0:\n",
    "                seen_map[(row_index, column_index)] = value\n",
    "    for row_index, row in enumerate(matrix):\n",
    "        for column_index, value in enumerate(row):\n",
    "            if (row_index, column_index) in seen_map:\n",
    "                #set the entire row to 0\n",
    "                for i in range(len(matrix[0])):\n",
    "                    matrix[row_index][i] = 0\n",
    "\n",
    "                for j in range(len(matrix)): #set columns to 0\n",
    "                    matrix[j][column_index] = 0\n",
    "    return matrix\n"
   ]
  },
  {
   "cell_type": "code",
   "execution_count": 194,
   "metadata": {},
   "outputs": [
    {
     "data": {
      "text/plain": [
       "4"
      ]
     },
     "execution_count": 194,
     "metadata": {},
     "output_type": "execute_result"
    }
   ],
   "source": [
    "matrix = [[0,1,2,0],[3,4,5,2],[1,3,1,5]]\n",
    "rows = len(matrix)\n",
    "cols = len(matrix[0])\n",
    "rowZero = False\n",
    "\n",
    "#determine which rows/cols need to be zero\n",
    "\n",
    "for row in range(row):\n",
    "    for col in range(cols):\n",
    "        if matrix[r][c] == 0"
   ]
  },
  {
   "cell_type": "markdown",
   "metadata": {},
   "source": [
    "## Leetcode 287. Find the Duplicate Number\n",
    "\n",
    "Given an array of integers nums containing n + 1 integers where each integer is in the range [1, n] inclusive.\n",
    "\n",
    "There is only one repeated number in nums, return this repeated number.\n",
    "\n",
    "You must solve the problem without modifying the array nums and using only constant extra space.\n",
    "\n",
    " \n",
    "\n",
    "Example 1:\n",
    "\n",
    "Input: nums = [1,3,4,2,2]\n",
    "\n",
    "Output: 2\n",
    "\n",
    "\n",
    "Example 2:\n",
    "\n",
    "Input: nums = [3,1,3,4,2]\n",
    "\n",
    "Output: 3"
   ]
  },
  {
   "cell_type": "code",
   "execution_count": 203,
   "metadata": {},
   "outputs": [],
   "source": [
    "def findDuplicatesNumber(nums):\n",
    "    count = {}\n",
    "    for num in nums:\n",
    "        if num not in count:\n",
    "            count[num] = 1\n",
    "        else:\n",
    "            return num\n",
    "\n",
    "#simple solution, but this uses O(n) space because we are using a hashmap\n",
    "        "
   ]
  },
  {
   "cell_type": "code",
   "execution_count": 238,
   "metadata": {},
   "outputs": [],
   "source": [
    "def findDuplicatesNumberOptimized(nums):\n",
    "    slow = 0\n",
    "    fast = 0\n",
    "\n",
    "    #move slow by 1 and fast by 2\n",
    "    while True:\n",
    "        slow = nums[slow] \n",
    "        fast = nums[nums[fast]]\n",
    "        if slow == fast:\n",
    "            break\n",
    "    \n",
    "    slow2 = 0\n",
    "    while slow != slow2:\n",
    "        slow = nums[slow]\n",
    "        slow2 = nums[slow2]\n",
    "    return slow"
   ]
  },
  {
   "cell_type": "code",
   "execution_count": 230,
   "metadata": {},
   "outputs": [],
   "source": [
    "def findDuplicatesFastSlow(nums):\n",
    "    pass\n"
   ]
  },
  {
   "cell_type": "code",
   "execution_count": 235,
   "metadata": {},
   "outputs": [],
   "source": [
    "nums = [1, 3, 4, 2, 2]"
   ]
  },
  {
   "cell_type": "code",
   "execution_count": 10,
   "metadata": {},
   "outputs": [],
   "source": [
    "def mergeSortedArray(nums1, m, nums2, n):\n",
    "    output = []\n",
    "    i = 0\n",
    "    j = 0\n",
    "    while i < len(nums1) and j < len(nums2):\n",
    "        if nums1[i] > nums2[j]:\n",
    "            output.append(nums1[j])\n",
    "            j += 1\n",
    "        elif nums1[i] < nums2[j]:\n",
    "            output.append(nums2[i])\n",
    "            i += 1\n",
    "        else:\n",
    "            output.append(nums1[i])\n",
    "            output.append(nums2[j])\n",
    "            i += 1\n",
    "            j += 1\n",
    "    return output"
   ]
  },
  {
   "cell_type": "code",
   "execution_count": 11,
   "metadata": {},
   "outputs": [
    {
     "ename": "IndexError",
     "evalue": "list index out of range",
     "output_type": "error",
     "traceback": [
      "\u001b[1;31m---------------------------------------------------------------------------\u001b[0m",
      "\u001b[1;31mIndexError\u001b[0m                                Traceback (most recent call last)",
      "Cell \u001b[1;32mIn[11], line 5\u001b[0m\n\u001b[0;32m      3\u001b[0m m \u001b[38;5;241m=\u001b[39m \u001b[38;5;241m3\u001b[39m\n\u001b[0;32m      4\u001b[0m n \u001b[38;5;241m=\u001b[39m \u001b[38;5;241m3\u001b[39m\n\u001b[1;32m----> 5\u001b[0m \u001b[43mmergeSortedArray\u001b[49m\u001b[43m(\u001b[49m\u001b[43mnums1\u001b[49m\u001b[43m,\u001b[49m\u001b[43m \u001b[49m\u001b[43mm\u001b[49m\u001b[43m,\u001b[49m\u001b[43m \u001b[49m\u001b[43mnums2\u001b[49m\u001b[43m,\u001b[49m\u001b[43m \u001b[49m\u001b[43mn\u001b[49m\u001b[43m)\u001b[49m\n",
      "Cell \u001b[1;32mIn[10], line 10\u001b[0m, in \u001b[0;36mmergeSortedArray\u001b[1;34m(nums1, m, nums2, n)\u001b[0m\n\u001b[0;32m      8\u001b[0m     j \u001b[38;5;241m+\u001b[39m\u001b[38;5;241m=\u001b[39m \u001b[38;5;241m1\u001b[39m\n\u001b[0;32m      9\u001b[0m \u001b[38;5;28;01melif\u001b[39;00m nums1[i] \u001b[38;5;241m<\u001b[39m nums2[j]:\n\u001b[1;32m---> 10\u001b[0m     output\u001b[38;5;241m.\u001b[39mappend(\u001b[43mnums2\u001b[49m\u001b[43m[\u001b[49m\u001b[43mi\u001b[49m\u001b[43m]\u001b[49m)\n\u001b[0;32m     11\u001b[0m     i \u001b[38;5;241m+\u001b[39m\u001b[38;5;241m=\u001b[39m \u001b[38;5;241m1\u001b[39m\n\u001b[0;32m     12\u001b[0m \u001b[38;5;28;01melse\u001b[39;00m:\n",
      "\u001b[1;31mIndexError\u001b[0m: list index out of range"
     ]
    }
   ],
   "source": [
    "nums1 = [1, 2, 3, 0, 0, 0]\n",
    "nums2 = [2, 5, 6]\n",
    "m = 3\n",
    "n = 3\n",
    "mergeSortedArray(nums1, m, nums2, n)"
   ]
  },
  {
   "cell_type": "code",
   "execution_count": 3,
   "metadata": {},
   "outputs": [],
   "source": [
    "nums1 = [1, 2, 3, 0, 0, 0]\n",
    "nums2 = [2, 5, 6]"
   ]
  },
  {
   "cell_type": "code",
   "execution_count": null,
   "metadata": {},
   "outputs": [],
   "source": [
    "output = []\n",
    "i = 0\n",
    "\n",
    "while m < len(nums1) and n < len(nums2):\n",
    "    if nums1"
   ]
  }
 ],
 "metadata": {
  "kernelspec": {
   "display_name": "Python 3",
   "language": "python",
   "name": "python3"
  },
  "language_info": {
   "codemirror_mode": {
    "name": "ipython",
    "version": 3
   },
   "file_extension": ".py",
   "mimetype": "text/x-python",
   "name": "python",
   "nbconvert_exporter": "python",
   "pygments_lexer": "ipython3",
   "version": "3.12.8"
  }
 },
 "nbformat": 4,
 "nbformat_minor": 2
}
