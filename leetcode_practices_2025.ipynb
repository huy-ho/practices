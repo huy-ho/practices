{
 "cells": [
  {
   "cell_type": "markdown",
   "metadata": {},
   "source": [
    "### Leetcode 217. Contains Duplicate"
   ]
  },
  {
   "cell_type": "code",
   "execution_count": null,
   "metadata": {},
   "outputs": [],
   "source": [
    "nums = [1, 2, 3, 1]\n",
    "visited = set()\n",
    "for n in nums:\n",
    "    if n in visited: #if it is already in the set, we are returning True, because this means it is a duplicate\n",
    "        return True\n",
    "    else:\n",
    "        visited.add(n)\n",
    "        "
   ]
  },
  {
   "cell_type": "code",
   "execution_count": 6,
   "metadata": {},
   "outputs": [],
   "source": [
    "def containsDuplicate(nums):\n",
    "    visited = set()\n",
    "    for n in nums:\n",
    "        if n in visited: #if it is already in the set, we are returning True, because this means it is a duplicate\n",
    "            return True\n",
    "        else:\n",
    "            visited.add(n)\n",
    "    return False\n",
    "        "
   ]
  },
  {
   "cell_type": "code",
   "execution_count": 8,
   "metadata": {},
   "outputs": [
    {
     "data": {
      "text/plain": [
       "True"
      ]
     },
     "execution_count": 8,
     "metadata": {},
     "output_type": "execute_result"
    }
   ],
   "source": [
    "nums = [1, 2, 3, 4, 2]\n",
    "containsDuplicate(nums)"
   ]
  },
  {
   "cell_type": "markdown",
   "metadata": {},
   "source": [
    "### Leetcode 268. Missing Number"
   ]
  },
  {
   "cell_type": "code",
   "execution_count": 18,
   "metadata": {},
   "outputs": [
    {
     "data": {
      "text/plain": [
       "3"
      ]
     },
     "execution_count": 18,
     "metadata": {},
     "output_type": "execute_result"
    }
   ],
   "source": [
    "a = [3, 0 ,1]\n",
    "len(a)"
   ]
  },
  {
   "cell_type": "code",
   "execution_count": 25,
   "metadata": {},
   "outputs": [
    {
     "data": {
      "text/plain": [
       "4"
      ]
     },
     "execution_count": 25,
     "metadata": {},
     "output_type": "execute_result"
    }
   ],
   "source": [
    "a = [3, 0, 1]\n",
    "length = len(a) + 1\n",
    "sum(a)"
   ]
  },
  {
   "cell_type": "code",
   "execution_count": null,
   "metadata": {},
   "outputs": [],
   "source": [
    "def sorted_missing_number(nums):\n",
    "\n",
    "    sorted_nums = sorted(nums) \n",
    "    for i, v in enumerate(sorted_nums):\n",
    "        if i != v:\n",
    "            return i\n",
    "    \n",
    "    #if all is the same, that means we are missing the final number, similar to the example [0, 1], we would be missing 2\n",
    "    return i + 1"
   ]
  },
  {
   "cell_type": "code",
   "execution_count": 41,
   "metadata": {},
   "outputs": [
    {
     "data": {
      "text/plain": [
       "2"
      ]
     },
     "execution_count": 41,
     "metadata": {},
     "output_type": "execute_result"
    }
   ],
   "source": [
    "a = sorted_missing_number([0, 1])\n",
    "a"
   ]
  },
  {
   "cell_type": "code",
   "execution_count": 26,
   "metadata": {},
   "outputs": [],
   "source": [
    "def missingNumber(nums):\n",
    "    length = len(nums) + 1 #or else we would be missing one number, because we want to include [0, n]\n",
    "\n",
    "    return sum(range(length)) - sum(nums)\n"
   ]
  },
  {
   "cell_type": "markdown",
   "metadata": {},
   "source": [
    "### Leetcode 1266. Minimum Time Visiting All Points"
   ]
  },
  {
   "cell_type": "code",
   "execution_count": null,
   "metadata": {},
   "outputs": [],
   "source": [
    "#We are in a 2D grid\n",
    "\n",
    "#inputs = [[1, 1,], [3, 4], [-1, 0]]  \n",
    "# Xi, Yi coordinates systems\n",
    "\n",
    "#we can move vertically and horizonally by 1, and diagonally (1 vetically and 1 horizontally)\n"
   ]
  },
  {
   "cell_type": "code",
   "execution_count": 44,
   "metadata": {},
   "outputs": [],
   "source": [
    "# [1, 1] -> [3, 4]\n",
    "\n",
    "#[2 up, and 3 right] -> [2 up, 2 right -> and then 1 right] -> 2 computations and then an extra computation\n",
    "\n",
    "#[3, 4] - > [-1, 0] -> [4 left, 4 down] -> 4 computations"
   ]
  },
  {
   "cell_type": "code",
   "execution_count": 58,
   "metadata": {},
   "outputs": [
    {
     "name": "stdout",
     "output_type": "stream",
     "text": [
      "1\n",
      "3\n"
     ]
    }
   ],
   "source": [
    "points = [[1, 1], [3, 4]]\n",
    "\n",
    "#traversing through a nested lists\n",
    "\n",
    "for i in range(len(points)):\n",
    "    x_coords = points[i][0]\n",
    "    print(x_coords)"
   ]
  },
  {
   "cell_type": "code",
   "execution_count": 67,
   "metadata": {},
   "outputs": [],
   "source": [
    "points = [[1, 1], [3, 4], [-1, 0]]"
   ]
  },
  {
   "cell_type": "code",
   "execution_count": 68,
   "metadata": {},
   "outputs": [],
   "source": [
    "x1, y1 = points.pop(0)\n",
    "x2, y2 = points.pop(0)"
   ]
  },
  {
   "cell_type": "code",
   "execution_count": 74,
   "metadata": {},
   "outputs": [
    {
     "data": {
      "text/plain": [
       "[[-1, 0]]"
      ]
     },
     "execution_count": 74,
     "metadata": {},
     "output_type": "execute_result"
    }
   ],
   "source": [
    "points"
   ]
  },
  {
   "cell_type": "code",
   "execution_count": 78,
   "metadata": {},
   "outputs": [],
   "source": [
    "points = [[1, 1], [3, 4], [-1, 0]]\n",
    "result = 0\n",
    "x1, y1 = points.pop(0) #x1 = 1, y1= 1\n",
    "while points:\n",
    "    x2, y2 = points.pop(0)\n",
    "    difference = max(abs(x2-x1), abs(y2- y1)) #3\n",
    "    result += difference\n",
    "    x1= x2\n",
    "    y1= y2\n",
    "\n",
    "\n",
    "    \n"
   ]
  },
  {
   "cell_type": "code",
   "execution_count": 79,
   "metadata": {},
   "outputs": [
    {
     "data": {
      "text/plain": [
       "7"
      ]
     },
     "execution_count": 79,
     "metadata": {},
     "output_type": "execute_result"
    }
   ],
   "source": [
    "result"
   ]
  },
  {
   "cell_type": "code",
   "execution_count": 80,
   "metadata": {},
   "outputs": [],
   "source": [
    "def minTimeToVisitAllPoints(points):    \n",
    "    result = 0\n",
    "    x1, y1 = points.pop(0) #x1 = 1, y1= 1\n",
    "    while points:\n",
    "        x2, y2 = points.pop(0)\n",
    "        difference = max(abs(x2-x1), abs(y2- y1)) #3\n",
    "        result += difference\n",
    "        x1= x2\n",
    "        y1= y2\n",
    "    return result"
   ]
  },
  {
   "cell_type": "code",
   "execution_count": 81,
   "metadata": {},
   "outputs": [
    {
     "data": {
      "text/plain": [
       "7"
      ]
     },
     "execution_count": 81,
     "metadata": {},
     "output_type": "execute_result"
    }
   ],
   "source": [
    "minTimeToVisitAllPoints([[1,1],[3,4],[-1,0]])"
   ]
  },
  {
   "cell_type": "markdown",
   "metadata": {},
   "source": [
    "### Leetcode 54. Spiral Matrix"
   ]
  },
  {
   "cell_type": "code",
   "execution_count": 286,
   "metadata": {},
   "outputs": [],
   "source": [
    "matrix = [[1,2,3,4,5],[6,7,8,9,10],[11,12,13,14,15], [16,17,18,19,20]]"
   ]
  },
  {
   "cell_type": "code",
   "execution_count": 287,
   "metadata": {},
   "outputs": [
    {
     "name": "stdout",
     "output_type": "stream",
     "text": [
      "1\n",
      "2\n",
      "3\n",
      "4\n",
      "5\n",
      "6\n",
      "7\n",
      "8\n",
      "9\n",
      "10\n",
      "11\n",
      "12\n",
      "13\n",
      "14\n",
      "15\n",
      "16\n",
      "17\n",
      "18\n",
      "19\n",
      "20\n"
     ]
    }
   ],
   "source": [
    "res = []\n",
    "for i in range(len(matrix)): #iterate over rows\n",
    "    for j in range(len(matrix[0])): #iterate over columns\n",
    "        print(matrix[i][j])"
   ]
  },
  {
   "cell_type": "code",
   "execution_count": 288,
   "metadata": {},
   "outputs": [],
   "source": [
    "first_pop = matrix.pop(0)"
   ]
  },
  {
   "cell_type": "code",
   "execution_count": 289,
   "metadata": {},
   "outputs": [
    {
     "data": {
      "text/plain": [
       "[1, 2, 3, 4, 5]"
      ]
     },
     "execution_count": 289,
     "metadata": {},
     "output_type": "execute_result"
    }
   ],
   "source": [
    "res+= first_pop\n",
    "res"
   ]
  },
  {
   "cell_type": "code",
   "execution_count": 290,
   "metadata": {},
   "outputs": [
    {
     "data": {
      "text/plain": [
       "[[6, 7, 8, 9, 10], [11, 12, 13, 14, 15], [16, 17, 18, 19, 20]]"
      ]
     },
     "execution_count": 290,
     "metadata": {},
     "output_type": "execute_result"
    }
   ],
   "source": [
    "matrix"
   ]
  },
  {
   "cell_type": "code",
   "execution_count": 291,
   "metadata": {},
   "outputs": [
    {
     "data": {
      "text/plain": [
       "[6, 7, 8, 9, 10]"
      ]
     },
     "execution_count": 291,
     "metadata": {},
     "output_type": "execute_result"
    }
   ],
   "source": [
    "move_down = matrix[0]\n",
    "move_down"
   ]
  },
  {
   "cell_type": "code",
   "execution_count": 292,
   "metadata": {},
   "outputs": [],
   "source": [
    "for row in matrix:\n",
    "    res.append(row.pop())"
   ]
  },
  {
   "cell_type": "code",
   "execution_count": 293,
   "metadata": {},
   "outputs": [
    {
     "data": {
      "text/plain": [
       "[1, 2, 3, 4, 5, 10, 15, 20]"
      ]
     },
     "execution_count": 293,
     "metadata": {},
     "output_type": "execute_result"
    }
   ],
   "source": [
    "res"
   ]
  },
  {
   "cell_type": "code",
   "execution_count": 294,
   "metadata": {},
   "outputs": [
    {
     "data": {
      "text/plain": [
       "[16, 17, 18, 19]"
      ]
     },
     "execution_count": 294,
     "metadata": {},
     "output_type": "execute_result"
    }
   ],
   "source": [
    "reversing = matrix.pop()\n",
    "reversing"
   ]
  },
  {
   "cell_type": "code",
   "execution_count": 295,
   "metadata": {},
   "outputs": [
    {
     "data": {
      "text/plain": [
       "[1, 2, 3, 4, 5, 10, 15, 20]"
      ]
     },
     "execution_count": 295,
     "metadata": {},
     "output_type": "execute_result"
    }
   ],
   "source": [
    "res"
   ]
  },
  {
   "cell_type": "code",
   "execution_count": 296,
   "metadata": {},
   "outputs": [],
   "source": [
    "#appending the last items of the list in reversed\n",
    "for i in range(len(reversing)-1, -1, -1):\n",
    "    res.append(reversing[i])"
   ]
  },
  {
   "cell_type": "code",
   "execution_count": 297,
   "metadata": {},
   "outputs": [
    {
     "data": {
      "text/plain": [
       "[1, 2, 3, 4, 5, 10, 15, 20, 19, 18, 17, 16]"
      ]
     },
     "execution_count": 297,
     "metadata": {},
     "output_type": "execute_result"
    }
   ],
   "source": [
    "res"
   ]
  },
  {
   "cell_type": "code",
   "execution_count": 298,
   "metadata": {},
   "outputs": [
    {
     "data": {
      "text/plain": [
       "[[6, 7, 8, 9], [11, 12, 13, 14]]"
      ]
     },
     "execution_count": 298,
     "metadata": {},
     "output_type": "execute_result"
    }
   ],
   "source": [
    "#move up\n",
    "matrix"
   ]
  },
  {
   "cell_type": "code",
   "execution_count": 304,
   "metadata": {},
   "outputs": [
    {
     "name": "stdout",
     "output_type": "stream",
     "text": [
      "[11, 12, 13, 14]\n",
      "[6, 7, 8, 9]\n"
     ]
    }
   ],
   "source": [
    "for row in range(len(matrix) - 1, -1, -1):\n",
    "    print(matrix[row])\n",
    "    res.append(matrix[row].pop(0))"
   ]
  },
  {
   "cell_type": "code",
   "execution_count": 305,
   "metadata": {},
   "outputs": [
    {
     "data": {
      "text/plain": [
       "[1, 2, 3, 4, 5, 10, 15, 20, 19, 18, 17, 16, 11, 6]"
      ]
     },
     "execution_count": 305,
     "metadata": {},
     "output_type": "execute_result"
    }
   ],
   "source": [
    "res"
   ]
  },
  {
   "cell_type": "code",
   "execution_count": 255,
   "metadata": {},
   "outputs": [],
   "source": [
    "matrix = [[1,2,3],[4,5,6],[7,8,9]]"
   ]
  },
  {
   "cell_type": "code",
   "execution_count": 256,
   "metadata": {},
   "outputs": [
    {
     "name": "stdout",
     "output_type": "stream",
     "text": [
      "[1, 2, 3]\n",
      "[4, 5, 6]\n",
      "[7, 8, 9]\n"
     ]
    }
   ],
   "source": [
    "for row in matrix:\n",
    "    print(row) "
   ]
  },
  {
   "cell_type": "code",
   "execution_count": 309,
   "metadata": {},
   "outputs": [],
   "source": [
    "def spiralMatrix(matrix):\n",
    "    res = []\n",
    "\n",
    "    while matrix:\n",
    "\n",
    "        \n",
    "        first_pop = matrix.pop(0)\n",
    "        res += first_pop\n",
    "\n",
    "        if matrix and matrix[0]: #we are accessing the rows, and then appending the last items\n",
    "            for row in matrix:\n",
    "                last_item = row.pop()\n",
    "                res.append(last_item)\n",
    "\n",
    "        #move in reversed\n",
    "        if matrix:\n",
    "            reversing = matrix.pop()\n",
    "            for i in range(len(reversing) -1, -1, -1):\n",
    "                res.append(reversing[i])\n",
    "        \n",
    "        if matrix and matrix[0]:\n",
    "        #going up\n",
    "            for row in range(len(matrix) - 1, -1, -1):\n",
    "                res.append(matrix[row].pop(0))\n",
    "\n",
    "    return res   "
   ]
  },
  {
   "cell_type": "code",
   "execution_count": 310,
   "metadata": {},
   "outputs": [
    {
     "data": {
      "text/plain": [
       "[1, 2, 3, 6, 9, 8, 7, 4, 5]"
      ]
     },
     "execution_count": 310,
     "metadata": {},
     "output_type": "execute_result"
    }
   ],
   "source": [
    "matrix = [[1,2,3],[4,5,6],[7,8,9]]\n",
    "spiralMatrix(matrix)"
   ]
  },
  {
   "cell_type": "code",
   "execution_count": 311,
   "metadata": {},
   "outputs": [
    {
     "data": {
      "text/plain": [
       "[1, 2, 3, 4, 8, 12, 11, 10, 9, 5, 6, 7]"
      ]
     },
     "execution_count": 311,
     "metadata": {},
     "output_type": "execute_result"
    }
   ],
   "source": [
    "spiralMatrix([[1,2,3,4],[5,6,7,8],[9,10,11,12]])"
   ]
  },
  {
   "cell_type": "code",
   "execution_count": 314,
   "metadata": {},
   "outputs": [
    {
     "data": {
      "text/plain": [
       "[1, 2, 3, 4, 5, 10, 15, 20, 19, 18, 17, 16, 11, 6, 7, 8, 9, 14, 13, 12]"
      ]
     },
     "execution_count": 314,
     "metadata": {},
     "output_type": "execute_result"
    }
   ],
   "source": [
    "spiralMatrix([[1,2,3,4,5],[6,7,8,9,10],[11,12,13,14,15], [16,17,18,19,20]])"
   ]
  },
  {
   "cell_type": "markdown",
   "metadata": {},
   "source": [
    "### Leetcodd 200. Number of Islands"
   ]
  },
  {
   "cell_type": "code",
   "execution_count": 336,
   "metadata": {},
   "outputs": [],
   "source": [
    "grid = [\n",
    "  [\"1\",\"1\",\"0\",\"0\",\"0\"],\n",
    "  [\"1\",\"1\",\"0\",\"0\",\"0\"],\n",
    "  [\"0\",\"0\",\"1\",\"0\",\"0\"],\n",
    "  [\"0\",\"0\",\"0\",\"1\",\"1\"]\n",
    "]"
   ]
  },
  {
   "cell_type": "code",
   "execution_count": 338,
   "metadata": {},
   "outputs": [],
   "source": [
    "#we are going to do a breadth first search"
   ]
  },
  {
   "cell_type": "code",
   "execution_count": 375,
   "metadata": {},
   "outputs": [],
   "source": [
    "from collections import deque\n",
    "\n",
    "def NumberOfIslands(grid):\n",
    "\n",
    "    islands = 0\n",
    "    visited = set() #everytime we visited an island, we add it to here\n",
    "    rows = len(grid)\n",
    "    cols = len(grid[0])\n",
    "\n",
    "    def bfs(r, c):\n",
    "\n",
    "        search_q = deque()\n",
    "        #since we already found an island\n",
    "        #add our coordinates to the queue, and visited\n",
    "\n",
    "        search_q.append((r, c))\n",
    "        visited.add((r, c))\n",
    "\n",
    "        while search_q:\n",
    "\n",
    "            row, col = search_q.popleft()\n",
    "            directions = [[1, 0], [-1, 0], [0, 1], [0, -1]] #down, up, right, left\n",
    "\n",
    "            for dr, dc in directions:\n",
    "                r, c = row + dr, col + dc\n",
    "                if 0 <= r < rows and 0 <= c < cols and grid[r][c] == \"1\" and (r, c) not in visited:\n",
    "                    search_q.append((r, c))\n",
    "                    visited.add((r, c))                 \n",
    "\n",
    "    rows = len(grid)\n",
    "    cols = len(grid[0])\n",
    "    for i in range(rows):\n",
    "        for j in range(cols):\n",
    "            if grid[i][j] == \"1\" and (i, j) not in visited: #[0, 0]\n",
    "                #perform bfs\n",
    "                bfs(i, j)\n",
    "                islands += 1\n",
    "    return islands"
   ]
  },
  {
   "cell_type": "code",
   "execution_count": 376,
   "metadata": {},
   "outputs": [
    {
     "data": {
      "text/plain": [
       "3"
      ]
     },
     "execution_count": 376,
     "metadata": {},
     "output_type": "execute_result"
    }
   ],
   "source": [
    "NumberOfIslands([\n",
    "  [\"1\",\"1\",\"0\",\"0\",\"0\"],\n",
    "  [\"1\",\"1\",\"0\",\"0\",\"0\"],\n",
    "  [\"0\",\"0\",\"1\",\"0\",\"0\"],\n",
    "  [\"0\",\"0\",\"0\",\"1\",\"1\"]\n",
    "])"
   ]
  },
  {
   "cell_type": "code",
   "execution_count": 377,
   "metadata": {},
   "outputs": [
    {
     "data": {
      "text/plain": [
       "5"
      ]
     },
     "execution_count": 377,
     "metadata": {},
     "output_type": "execute_result"
    }
   ],
   "source": [
    "len(grid[0])"
   ]
  },
  {
   "cell_type": "code",
   "execution_count": null,
   "metadata": {},
   "outputs": [],
   "source": [
    "from collections import deque\n",
    "def bfs(r, c):\n",
    "\n",
    "    search_q = deque()\n",
    "    directions = [[1, 0], [-1, 0], [0, 1], [0, -1]] #down, up, right, left\n",
    "\n",
    "    #since we already found an island\n",
    "    #add our coordinates to the queue, and visited\n",
    "\n",
    "    search_q.append((r, c))\n",
    "    visited.add((r, c))\n",
    "\n",
    "    while q:\n",
    "\n",
    "\n",
    "\n",
    "        for dir \n"
   ]
  },
  {
   "cell_type": "code",
   "execution_count": 347,
   "metadata": {},
   "outputs": [
    {
     "name": "stdout",
     "output_type": "stream",
     "text": [
      "1\n",
      "1\n",
      "1\n",
      "1\n",
      "1\n",
      "1\n",
      "1\n"
     ]
    }
   ],
   "source": [
    "rows = len(grid)\n",
    "cols = len(grid[0])\n",
    "for i in range(rows):\n",
    "    for j in range(cols):\n",
    "        if grid[i][j] == \"1\": #[0, 0]\n",
    "            print(grid[i][j])"
   ]
  },
  {
   "cell_type": "code",
   "execution_count": 359,
   "metadata": {},
   "outputs": [
    {
     "name": "stdout",
     "output_type": "stream",
     "text": [
      "1 0\n",
      "-1 0\n",
      "0 1\n",
      "0 -1\n"
     ]
    }
   ],
   "source": [
    "directions = [[1, 0], [-1, 0], [0, 1], [0, -1]]\n",
    "\n",
    "for dr, dc in directions:\n",
    "    print(dr, dc)"
   ]
  },
  {
   "cell_type": "code",
   "execution_count": 354,
   "metadata": {},
   "outputs": [],
   "source": [
    "from collections import deque\n",
    "\n",
    "search_q = deque()"
   ]
  },
  {
   "cell_type": "code",
   "execution_count": 355,
   "metadata": {},
   "outputs": [],
   "source": [
    "search_q.append((0, 0))"
   ]
  },
  {
   "cell_type": "code",
   "execution_count": 356,
   "metadata": {},
   "outputs": [],
   "source": [
    "row, col = search_q.popleft()"
   ]
  },
  {
   "cell_type": "code",
   "execution_count": 358,
   "metadata": {},
   "outputs": [
    {
     "data": {
      "text/plain": [
       "0"
      ]
     },
     "execution_count": 358,
     "metadata": {},
     "output_type": "execute_result"
    }
   ],
   "source": [
    "col"
   ]
  },
  {
   "cell_type": "code",
   "execution_count": 361,
   "metadata": {},
   "outputs": [
    {
     "data": {
      "text/plain": [
       "'1'"
      ]
     },
     "execution_count": 361,
     "metadata": {},
     "output_type": "execute_result"
    }
   ],
   "source": [
    "grid[0][1]"
   ]
  },
  {
   "cell_type": "markdown",
   "metadata": {},
   "source": [
    "### Leetcode 121. Best Time to Buy and Sell Stock"
   ]
  },
  {
   "cell_type": "code",
   "execution_count": 407,
   "metadata": {},
   "outputs": [],
   "source": [
    "def maxProfit(prices):\n",
    "    lp = 0\n",
    "    rp = 1\n",
    "    currentMax = 0\n",
    "    while rp < len(prices):\n",
    "        difference = prices[rp] - prices[lp]\n",
    "\n",
    "        #if the rp is less than lp\n",
    "        if prices[rp] < prices[lp]:\n",
    "            lp = rp\n",
    "            rp = rp + 1 \n",
    "        else:\n",
    "            if difference > currentMax:\n",
    "                currentMax = difference\n",
    "            rp = rp + 1\n",
    "\n",
    "    return currentMax"
   ]
  },
  {
   "cell_type": "code",
   "execution_count": 408,
   "metadata": {},
   "outputs": [
    {
     "data": {
      "text/plain": [
       "5"
      ]
     },
     "execution_count": 408,
     "metadata": {},
     "output_type": "execute_result"
    }
   ],
   "source": [
    "prices = [7,1,5,3,6,4]\n",
    "maxProfit(prices)"
   ]
  },
  {
   "cell_type": "code",
   "execution_count": 381,
   "metadata": {},
   "outputs": [],
   "source": [
    "prices = [7,1,5,3,6,4]"
   ]
  },
  {
   "cell_type": "code",
   "execution_count": 382,
   "metadata": {},
   "outputs": [
    {
     "ename": "KeyboardInterrupt",
     "evalue": "",
     "output_type": "error",
     "traceback": [
      "\u001b[31m---------------------------------------------------------------------------\u001b[39m",
      "\u001b[31mKeyboardInterrupt\u001b[39m                         Traceback (most recent call last)",
      "\u001b[36mCell\u001b[39m\u001b[36m \u001b[39m\u001b[32mIn[382]\u001b[39m\u001b[32m, line 4\u001b[39m\n\u001b[32m      2\u001b[39m rp = \u001b[32m1\u001b[39m\n\u001b[32m      3\u001b[39m currentMax = \u001b[32m0\u001b[39m\n\u001b[32m----> \u001b[39m\u001b[32m4\u001b[39m \u001b[38;5;28;01mwhile\u001b[39;00m rp < \u001b[38;5;28mlen\u001b[39m(prices):\n\u001b[32m      5\u001b[39m     difference = prices[rp] - prices[lp]\n\u001b[32m      7\u001b[39m     \u001b[38;5;66;03m#when the higher profit is found\u001b[39;00m\n",
      "\u001b[31mKeyboardInterrupt\u001b[39m: "
     ]
    }
   ],
   "source": [
    "lp = 0\n",
    "rp = 1\n",
    "currentMax = 0\n",
    "while rp < len(prices):\n",
    "    difference = prices[rp] - prices[lp]\n",
    "\n",
    "    #when the higher profit is found\n",
    "\n",
    "    if difference > currentMax:\n",
    "        currentMax = difference\n",
    "        rp = rp + 1\n",
    "\n",
    "    if prices[rp] < prices[lp]:\n",
    "        lp = rp - 1\n",
    "        rp = rp + 1\n",
    "    \n",
    "print(currentMax)\n",
    "    \n",
    "    "
   ]
  },
  {
   "cell_type": "code",
   "execution_count": null,
   "metadata": {},
   "outputs": [],
   "source": []
  }
 ],
 "metadata": {
  "kernelspec": {
   "display_name": "Python 3",
   "language": "python",
   "name": "python3"
  },
  "language_info": {
   "codemirror_mode": {
    "name": "ipython",
    "version": 3
   },
   "file_extension": ".py",
   "mimetype": "text/x-python",
   "name": "python",
   "nbconvert_exporter": "python",
   "pygments_lexer": "ipython3",
   "version": "3.13.2"
  }
 },
 "nbformat": 4,
 "nbformat_minor": 2
}
