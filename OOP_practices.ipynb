{
 "cells": [
  {
   "cell_type": "code",
   "execution_count": 9,
   "metadata": {},
   "outputs": [],
   "source": [
    "class ShoppingCart(object):\n",
    "\n",
    "    def __init__(self):\n",
    "        self.total = 0\n",
    "        self.items = {}\n",
    "\n",
    "    def add_items(self, item_name, quantity, price):\n",
    "        self.total = self.total + quantity * price\n",
    "        self.items.update(\n",
    "            {item_name: quantity}\n",
    "        )\n",
    "    \n",
    "    def remove_items(self, item_name, quantity, price):\n",
    "        self.total = self.total - (quantity * price)\n",
    "        if quantity >= self.items[item_name]:\n",
    "            del self.items[item_name]\n",
    "        else:\n",
    "            self.items[item_name] -= quantity\n",
    "        \n",
    "    def checkout(self, cash_paid):\n",
    "        balance = 0\n",
    "        if cash_paid < self.total:\n",
    "            return \"You paid {} but the total amount is {}\".format(cash_paid, self.total)\n",
    "        #total = 45, cash_paid = 100\n",
    "        balance = cash_paid - self.total\n",
    "        return \"Exchange amount is {}\".format(balance)\n"
   ]
  },
  {
   "cell_type": "code",
   "execution_count": 10,
   "metadata": {},
   "outputs": [],
   "source": [
    "cart = ShoppingCart()\n",
    "cart.add_items(\"banana\", 3, 0.5)\n",
    "cart.add_items(\"salad kit\", 1, 5)\n",
    "cart.add_items(\"cod fillet\", 2, 8)"
   ]
  },
  {
   "cell_type": "code",
   "execution_count": 12,
   "metadata": {},
   "outputs": [
    {
     "data": {
      "text/plain": [
       "{'banana': 3, 'salad kit': 1, 'cod fillet': 2}"
      ]
     },
     "execution_count": 12,
     "metadata": {},
     "output_type": "execute_result"
    }
   ],
   "source": [
    "cart.items"
   ]
  },
  {
   "cell_type": "code",
   "execution_count": 13,
   "metadata": {},
   "outputs": [],
   "source": [
    "cart.remove_items(\"banana\", 1, 0.5)"
   ]
  },
  {
   "cell_type": "code",
   "execution_count": 14,
   "metadata": {},
   "outputs": [
    {
     "data": {
      "text/plain": [
       "{'banana': 2, 'salad kit': 1, 'cod fillet': 2}"
      ]
     },
     "execution_count": 14,
     "metadata": {},
     "output_type": "execute_result"
    }
   ],
   "source": [
    "cart.items"
   ]
  },
  {
   "cell_type": "code",
   "execution_count": 15,
   "metadata": {},
   "outputs": [
    {
     "data": {
      "text/plain": [
       "'Exchange amount is 78.0'"
      ]
     },
     "execution_count": 15,
     "metadata": {},
     "output_type": "execute_result"
    }
   ],
   "source": [
    "cart_result = cart.checkout(100)\n",
    "cart_result"
   ]
  },
  {
   "cell_type": "markdown",
   "metadata": {},
   "source": [
    "### Encapsulation"
   ]
  },
  {
   "cell_type": "code",
   "execution_count": 16,
   "metadata": {},
   "outputs": [],
   "source": [
    "class BankAccount:\n",
    "    def __init__(self, account_number, balance):\n",
    "        self.account_number = account_number   # Public Attribute\n",
    "        self.__balance = balance              # Private Attribute\n",
    "\n",
    "    # Getter method\n",
    "    def get_balance(self):\n",
    "        return self.__balance\n",
    "\n",
    "    # Setter method\n",
    "    def deposit(self, amount):\n",
    "        if amount > 0:\n",
    "            self.__balance += amount\n",
    "        else:\n",
    "            print(\"Invalid deposit amount\")\n",
    "\n",
    "    # Private Method\n",
    "    def __secret_method(self):\n",
    "        print(\"This is a secret method\")\n"
   ]
  },
  {
   "cell_type": "code",
   "execution_count": 17,
   "metadata": {},
   "outputs": [],
   "source": [
    "account = BankAccount(\"HH1207\", 100)"
   ]
  },
  {
   "cell_type": "code",
   "execution_count": 24,
   "metadata": {},
   "outputs": [
    {
     "ename": "AttributeError",
     "evalue": "'BankAccount' object has no attribute '__balance'",
     "output_type": "error",
     "traceback": [
      "\u001b[31m---------------------------------------------------------------------------\u001b[39m",
      "\u001b[31mAttributeError\u001b[39m                            Traceback (most recent call last)",
      "\u001b[36mCell\u001b[39m\u001b[36m \u001b[39m\u001b[32mIn[24]\u001b[39m\u001b[32m, line 1\u001b[39m\n\u001b[32m----> \u001b[39m\u001b[32m1\u001b[39m \u001b[43maccount\u001b[49m\u001b[43m.\u001b[49m\u001b[43m__balance\u001b[49m \n\u001b[32m      2\u001b[39m \u001b[38;5;66;03m#this will error out because __ nmakes them hidden from outside the class \u001b[39;00m\n",
      "\u001b[31mAttributeError\u001b[39m: 'BankAccount' object has no attribute '__balance'"
     ]
    }
   ],
   "source": [
    "account.__balance \n",
    "#this will error out because __ nmakes them hidden from outside the class "
   ]
  },
  {
   "cell_type": "code",
   "execution_count": 22,
   "metadata": {},
   "outputs": [
    {
     "data": {
      "text/plain": [
       "100"
      ]
     },
     "execution_count": 22,
     "metadata": {},
     "output_type": "execute_result"
    }
   ],
   "source": [
    "account.get_balance()"
   ]
  },
  {
   "cell_type": "markdown",
   "metadata": {},
   "source": [
    "### Abstraction"
   ]
  },
  {
   "cell_type": "markdown",
   "metadata": {},
   "source": [
    "Abstraction is another key concept in Object-Oriented Programming (OOP). It is the process of hiding unnecessary implementation details and showing only the essential features of an object."
   ]
  },
  {
   "cell_type": "code",
   "execution_count": 29,
   "metadata": {},
   "outputs": [],
   "source": [
    "from abc import ABC, abstractmethod\n",
    "\n",
    "class Vehicle(ABC):\n",
    "    @abstractmethod\n",
    "    def park(self):\n",
    "        pass\n",
    "\n",
    "class CompactCar(Vehicle):\n",
    "    def park(self):\n",
    "        print(\"compact car is parking in a compact spot\")\n",
    "\n",
    "class Motorcycle(Vehicle):\n",
    "    def park(self):\n",
    "        print(\"motorcycle is parking in a motorcycle spot\")\n"
   ]
  },
  {
   "cell_type": "code",
   "execution_count": 30,
   "metadata": {},
   "outputs": [
    {
     "name": "stdout",
     "output_type": "stream",
     "text": [
      "compact car is parking in a compact spot\n",
      "motorcycle is parking in a motorcycle spot\n"
     ]
    }
   ],
   "source": [
    "vehicles = [CompactCar(), Motorcycle()]\n",
    "for v in vehicles:\n",
    "    v.park()"
   ]
  },
  {
   "cell_type": "markdown",
   "metadata": {},
   "source": [
    "### Polymorphism"
   ]
  },
  {
   "cell_type": "markdown",
   "metadata": {},
   "source": [
    "Different objects can be treated the same way throiugh a common interface"
   ]
  },
  {
   "cell_type": "code",
   "execution_count": 182,
   "metadata": {},
   "outputs": [],
   "source": [
    "from abc import ABC, abstractmethod\n",
    "\n",
    "class Vehicle(ABC):\n",
    "    def __init__(self, license_plate):\n",
    "        self.license_plate = license_plate  # Encapsulation (private-like attribute)\n",
    "\n",
    "    @abstractmethod\n",
    "    def park(self):\n",
    "        pass\n",
    "\n",
    "    def display_plate(self):\n",
    "        print(f\"Vehicle with plate {self.license_plate} is parking\")\n",
    "\n",
    "class CompactCar(Vehicle):\n",
    "    def park(self):\n",
    "        self.display_plate()\n",
    "        print(\"Compact car is parking in a compact spot\")\n",
    "\n",
    "class Motorcycle(Vehicle):\n",
    "    def park(self):\n",
    "        self.display_plate()\n",
    "        print(\"Motorcycle is parking in a motorcycle spot\")\n",
    "\n",
    "class Truck(Vehicle):\n",
    "    def park(self):\n",
    "        self.display_plate()\n",
    "        print(\"Truck is parking in a large spot\")\n"
   ]
  },
  {
   "cell_type": "code",
   "execution_count": 233,
   "metadata": {},
   "outputs": [],
   "source": [
    "class ParkingSpot:\n",
    "\n",
    "    def __init__(self, spot_id, distance, vehicle_type):\n",
    "\n",
    "        self.spot_id = spot_id\n",
    "        self.distance = distance\n",
    "        #check that vehicle type is an instance of the class Vehicle\n",
    "\n",
    "        if not issubclass(vehicle_type, Vehicle):\n",
    "            raise ValueError(\"vehicle_type must be a subclass of a vehicle\")\n",
    "        \n",
    "        self.vehicle_type = vehicle_type\n",
    "        self.is_occupied = False\n",
    "\n",
    "    #what methods does a spot need? \n",
    "    #it needs -> occupy() and release()\n",
    "\n",
    "    def occupy(self):\n",
    "        if not self.is_occupied:\n",
    "            self.is_occupied = True\n",
    "            print(f\"Spot {self.spot_id} is now occupied\")\n",
    "        else:\n",
    "            print(f\"Spot {self.spot_id} is already occupied\")\n",
    "    \n",
    "    def release(self):\n",
    "        if self.is_occupied:\n",
    "            self.is_occupied = False\n",
    "            print(f\"Spot {self.spot_id} is now available\")\n",
    "        else:\n",
    "            print(f\"Spot {self.spot_id} is available\")\n",
    "\n",
    "    def is_parkingSpot_occupied(self):\n",
    "        return self.is_occupied #return true if the spot is NOT occupied\n",
    "    \n",
    "    def is_size_compatible(self, vehicle: Vehicle):\n",
    "        \n",
    "        #check if the parkingspot is compatible with the given vehicle ttype\n",
    "\n",
    "        if isinstance(vehicle, self.vehicle_type):\n",
    "            print(f\"Spot {self.spot_id} is compatible with {vehicle.__class__.__name__}\")\n",
    "            return True\n",
    "        return False\n"
   ]
  },
  {
   "cell_type": "code",
   "execution_count": 234,
   "metadata": {},
   "outputs": [],
   "source": [
    "import heapq\n",
    "\n",
    "class ParkingLot:\n",
    "\n",
    "    #manages multiple spots and assigns the nearest spot\n",
    "    #holds the number of parking Spots\n",
    "\n",
    "    def __init__(self, capacity):\n",
    "\n",
    "        #attributes\n",
    "        self.capacity = capacity\n",
    "        self.spots = [] #store the parking lots\n",
    "        self.available_spots = [] #store the available parking spots\n",
    "        self.occupied_spots = set() #store the occupied parking spots\n",
    "\n",
    "    def add_parking_spots(self, parkingSpot: ParkingSpot):\n",
    "        if len(self.spots) >= self.capacity:\n",
    "            print(\"Cannot add more spots, it is at full capacity\")\n",
    "            return\n",
    "        self.spots.append(parkingSpot)\n",
    "\n",
    "        #push the new spot with the tuple (distance, ParkingSpot Object )\n",
    "\n",
    "        heapq.heappush(self.available_spots, (parkingSpot.distance, parkingSpot))\n",
    "    \n",
    "    def release_spot(self, parkingSpot: ParkingSpot):\n",
    "\n",
    "        #no occupied spots\n",
    "        if len(self.occupied_spots) == 0:\n",
    "            print(f\"There are no occupied spots\")\n",
    "            return\n",
    "        \n",
    "        #remove it from the occupied spots\n",
    "        self.occupied_spots.remove(parkingSpot.spot_id)\n",
    "\n",
    "        #push it back to our minheap, aka our available spots heap\n",
    "        heapq.heappush(self.available_spots, (parkingSpot.distance, parkingSpot))\n",
    "\n",
    "    \n",
    "    def find_nearest_available_spots(self):\n",
    "        if not self.available_spots:\n",
    "            print(f\"There are no available parking spots\")\n",
    "            return None\n",
    "        return self.available_spots[0][1]\n",
    "\n",
    "    def park(self, vehicle: Vehicle):\n",
    "        if not self.available_spots:\n",
    "            print(f\"There are no available parking spots\")\n",
    "            return None\n",
    "        \n",
    "        nearest_spot = self.find_nearest_available_spots()\n",
    "\n",
    "        if nearest_spot and nearest_spot.is_size_compatible(vehicle) and not nearest_spot.is_occupied:\n",
    "            nearest_spot.occupy()\n",
    "            self.occupied_spots.add(nearest_spot)\n",
    "            print(f\"Vehicle {vehicle.license_plate} is parked at spot {nearest_spot.spot_id}\")\n",
    "            return nearest_spot\n",
    "        \n",
    "        print(\"No suitable Parking Spot\")\n",
    "        return None\n"
   ]
  },
  {
   "cell_type": "code",
   "execution_count": 239,
   "metadata": {},
   "outputs": [],
   "source": [
    "parking_lot = ParkingLot(10)"
   ]
  },
  {
   "cell_type": "code",
   "execution_count": 244,
   "metadata": {},
   "outputs": [
    {
     "name": "stdout",
     "output_type": "stream",
     "text": [
      "No suitable Parking Spot\n",
      "Spot A2 is compatible with Motorcycle\n",
      "Spot A2 is now occupied\n",
      "Vehicle MOTO456 is parked at spot A2\n"
     ]
    },
    {
     "data": {
      "text/plain": [
       "<__main__.ParkingSpot at 0x23432bf4e50>"
      ]
     },
     "execution_count": 244,
     "metadata": {},
     "output_type": "execute_result"
    }
   ],
   "source": [
    "# Create vehicles\n",
    "compact_car = CompactCar(\"ABC123\")\n",
    "motorcycle = Motorcycle(\"MOTO456\")\n",
    "\n",
    "\n",
    "# Create parking lot\n",
    "parking_lot = ParkingLot(5)\n",
    "\n",
    "\n",
    "# Create parking spots\n",
    "spot1 = ParkingSpot(spot_id=\"A1\", distance=5, vehicle_type=CompactCar)\n",
    "spot2 = ParkingSpot(spot_id=\"A2\", distance=2, vehicle_type=Motorcycle)\n",
    "\n",
    "# Add spots to parking lot\n",
    "parking_lot.add_parking_spots(spot1)\n",
    "parking_lot.add_parking_spots(spot2)\n",
    "\n",
    "# Park vehicles\n",
    "parking_lot.park(compact_car)  # Should park in A1\n",
    "parking_lot.park(motorcycle)  # Should park in A2\n"
   ]
  },
  {
   "cell_type": "markdown",
   "metadata": {},
   "source": [
    "# OOD Problem 2: Design a Coffee Vending Machine"
   ]
  },
  {
   "cell_type": "code",
   "execution_count": null,
   "metadata": {},
   "outputs": [],
   "source": [
    "class Drink:\n",
    "\n",
    "    def __init__(self, name, ingredients, price, size):\n",
    "        \n",
    "        #name\n",
    "        self.name = name\n",
    "        #ingredients\n",
    "        self.ingredients = ingredients #coffee, milk, water, etc\n",
    "\n",
    "        #price\n",
    "        self.price = price\n",
    "\n",
    "        #size\n",
    "        self.size = size\n",
    "\n",
    "    \n",
    "    def get_name(self):\n",
    "        return self.name\n",
    "    \n",
    "    def get_ingredients(self):\n",
    "        return self.ingredients\n",
    "    \n",
    "    def get_price(self):\n",
    "        return self.price\n",
    "    \n",
    "    def get_size(self):\n",
    "        return self.size\n",
    "    \n",
    "\n",
    "class Espresso(Drink):\n",
    "\n",
    "    def __init__(self, size=\"Medium\"):\n",
    "\n",
    "        ingredients = {\"coffee\": 5, \"water\": 2}\n",
    "        price = 2.50\n",
    "\n",
    "        super().__init__(\"Espresso\", ingredients, price, size)\n",
    "\n",
    "class Cappuccino(Drink):\n",
    "\n",
    "    def __init__(self, size='Medium'):\n",
    "\n",
    "        ingredients = {\"coffee\": 10, \"water\": 1}\n",
    "        price = 3.75\n",
    "\n",
    "        super().__init__(\"Cappuchino\", ingredients, price, size)\n",
    "\n",
    "class Customization:\n",
    "\n",
    "    def __init__(self, extra_shot = False, extra_milk = False, sugar_level = 0):\n",
    "        \n",
    "        #we are going to have extra shot, extra milk, sugar_level\n",
    "\n",
    "        self.extra_shot = extra_shot\n",
    "        self.extra_milk = extra_milk\n",
    "        self.sugar_level = sugar_level #(0: none to 3 (extra ))\n",
    "\n",
    "    \n",
    "    def apply_customization(self, drink: Drink):\n",
    "\n",
    "        if self.extra_shot:\n",
    "            drink.ingredients[self.extra_shot] = True\n",
    "\n",
    "        if self.extra_milk:\n",
    "            drink.ingredients[self.extra_milk] = True\n",
    "        "
   ]
  },
  {
   "cell_type": "code",
   "execution_count": 266,
   "metadata": {},
   "outputs": [],
   "source": [
    "a = Espresso()\n",
    "b = Cappuccino()"
   ]
  },
  {
   "cell_type": "code",
   "execution_count": 263,
   "metadata": {},
   "outputs": [
    {
     "data": {
      "text/plain": [
       "{'coffee': 5, 'water': 2}"
      ]
     },
     "execution_count": 263,
     "metadata": {},
     "output_type": "execute_result"
    }
   ],
   "source": [
    "a. get_ingredients()"
   ]
  },
  {
   "cell_type": "code",
   "execution_count": null,
   "metadata": {},
   "outputs": [],
   "source": []
  }
 ],
 "metadata": {
  "kernelspec": {
   "display_name": "Python 3",
   "language": "python",
   "name": "python3"
  },
  "language_info": {
   "codemirror_mode": {
    "name": "ipython",
    "version": 3
   },
   "file_extension": ".py",
   "mimetype": "text/x-python",
   "name": "python",
   "nbconvert_exporter": "python",
   "pygments_lexer": "ipython3",
   "version": "3.13.2"
  }
 },
 "nbformat": 4,
 "nbformat_minor": 2
}
